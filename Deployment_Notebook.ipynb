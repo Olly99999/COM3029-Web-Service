{
 "cells": [
  {
   "cell_type": "code",
   "execution_count": 4,
   "metadata": {},
   "outputs": [
    {
     "name": "stdout",
     "output_type": "stream",
     "text": [
      "interaction_log.csv cleared.\n"
     ]
    }
   ],
   "source": [
    "def clear_log_file(filename):\n",
    "    try:\n",
    "        open(filename, 'w').close()\n",
    "        print(f\"{filename} cleared.\")\n",
    "    except Exception as e:\n",
    "        print(f\"Error clearing {filename}: {str(e)}\")\n",
    "\n",
    "\n",
    "clear_log_file('interaction_log.csv')\n"
   ]
  },
  {
   "cell_type": "code",
   "execution_count": 8,
   "metadata": {},
   "outputs": [
    {
     "name": "stdout",
     "output_type": "stream",
     "text": [
      "The predicted emotion is Optimism\n"
     ]
    }
   ],
   "source": [
    "import requests\n",
    "import json\n",
    "\n",
    "url = \"http://127.0.0.1:8000/predict\"\n",
    "data = {\n",
    "    #\"text\": \"I want to fight someone and punch them !\"\n",
    "    \"text\" : \"I hope that the future will be better\"\n",
    "\n",
    "\n",
    "}\n",
    "\n",
    "response = requests.post(url, data=data)\n",
    "print(response.json())\n",
    "#response = requests.post(url, data=data)\n",
    "\n",
    "# Check if the POST request was successful\n",
    "#if response.status_code == 200:\n",
    "#    print(\"POST request was successful.\")\n",
    "#    print(\"Response:\", response.json())\n",
    "#else:\n",
    "#    print(\"POST request failed with status code:\", response.status_code)\n",
    "#    print(\"Response:\", response.content)"
   ]
  },
  {
   "cell_type": "code",
   "execution_count": 9,
   "metadata": {},
   "outputs": [
    {
     "name": "stdout",
     "output_type": "stream",
     "text": [
      "                Date and Time                                  Input   \n",
      "0  2023-05-23 13:02:29.821815  I hope that the future will be better  \\\n",
      "1  2023-05-23 13:02:55.846418  I hope that the future will be better   \n",
      "\n",
      "  Emotion Predicted  \n",
      "0          Optimism  \n",
      "1          Optimism  \n"
     ]
    }
   ],
   "source": [
    "import pandas as pd\n",
    "\n",
    "def check_log_file(filename):\n",
    "    column_names = ['Date and Time', 'Input', 'Emotion Predicted'] # Specify the column names\n",
    "    try:\n",
    "        data = pd.read_csv(filename, names=column_names)\n",
    "        print(data)\n",
    "    except FileNotFoundError:\n",
    "        print(f\"{filename} not found.\")\n",
    "\n",
    "\n",
    "check_log_file('interaction_log.csv')"
   ]
  },
  {
   "cell_type": "code",
   "execution_count": 21,
   "metadata": {},
   "outputs": [
    {
     "ename": "SyntaxError",
     "evalue": "illegal target for annotation (356046631.py, line 1)",
     "output_type": "error",
     "traceback": [
      "\u001b[0;36m  File \u001b[0;32m\"/tmp/ipykernel_1124387/356046631.py\"\u001b[0;36m, line \u001b[0;32m1\u001b[0m\n\u001b[0;31m    lsof -i :8089\u001b[0m\n\u001b[0m    ^\u001b[0m\n\u001b[0;31mSyntaxError\u001b[0m\u001b[0;31m:\u001b[0m illegal target for annotation\n"
     ]
    }
   ],
   "source": [
    "#lsof -i :8089 use this command to find if locust is using that port\n",
    "#kill -9 <PID> use command to kill locust process\n",
    "\n"
   ]
  },
  {
   "cell_type": "code",
   "execution_count": 28,
   "metadata": {},
   "outputs": [
    {
     "name": "stdout",
     "output_type": "stream",
     "text": [
      "[2023-05-23 13:32:10,711] heron167.eps.surrey.ac.uk/INFO/locust.main: Starting web interface at http://0.0.0.0:8089 (accepting connections from all network interfaces)\n",
      "[2023-05-23 13:32:10,719] heron167.eps.surrey.ac.uk/INFO/locust.main: Starting Locust 2.15.1\n",
      "[2023-05-23 13:32:16,473] heron167.eps.surrey.ac.uk/INFO/locust.runners: Ramping to 100 users at a rate of 10.00 per second\n",
      "[2023-05-23 13:32:25,478] heron167.eps.surrey.ac.uk/INFO/locust.runners: All users spawned: {\"WebsiteUser\": 100} (100 total users)\n",
      "KeyboardInterrupt\n",
      "2023-05-23T12:32:57Z\n",
      "[2023-05-23 13:32:57,885] heron167.eps.surrey.ac.uk/INFO/locust.main: Shutting down (exit code 0)\n",
      "Type     Name  # reqs      # fails |    Avg     Min     Max    Med |   req/s  failures/s\n",
      "--------||-------|-------------|-------|-------|-------|-------|--------|-----------\n",
      "POST     /predict    3449     0(0.00%) |   1053      69    2455   1200 |   83.29        0.00\n",
      "--------||-------|-------------|-------|-------|-------|-------|--------|-----------\n",
      "         Aggregated    3449     0(0.00%) |   1053      69    2455   1200 |   83.29        0.00\n",
      "\n",
      "Response time percentiles (approximated)\n",
      "Type     Name      50%    66%    75%    80%    90%    95%    98%    99%  99.9% 99.99%   100% # reqs\n",
      "--------||--------|------|------|------|------|------|------|------|------|------|------|------\n",
      "POST     /predict     1200   1200   1200   1200   1200   1300   1300   1600   2400   2500   2500   3449\n",
      "--------||--------|------|------|------|------|------|------|------|------|------|------|------\n",
      "         Aggregated     1200   1200   1200   1200   1200   1300   1300   1600   2400   2500   2500   3449\n",
      "\n"
     ]
    },
    {
     "name": "stderr",
     "output_type": "stream",
     "text": [
      "KeyboardInterrupt\n",
      "2023-05-23T12:32:57Z\n"
     ]
    }
   ],
   "source": [
    "# LOCUST TESTING USING locust_testing.py\n",
    "\n",
    "!locust -f locust_testing.py --host http://127.0.0.1:8000 --csv=locust_output\n"
   ]
  },
  {
   "cell_type": "code",
   "execution_count": 32,
   "metadata": {},
   "outputs": [],
   "source": [
    "import pandas as pd\n",
    "\n",
    "# Load stats data\n",
    "stats_df = pd.read_csv('locust_output_stats.csv')\n",
    "\n",
    "# Load requests data\n",
    "#requests_df = pd.read_csv('locust_output_requests.csv')\n",
    "\n",
    "# Load failures data\n",
    "failures_df = pd.read_csv('locust_output_failures.csv')\n"
   ]
  },
  {
   "cell_type": "code",
   "execution_count": null,
   "metadata": {},
   "outputs": [],
   "source": []
  }
 ],
 "metadata": {
  "kernelspec": {
   "display_name": "Python 3.10.6 64-bit",
   "language": "python",
   "name": "python3"
  },
  "language_info": {
   "codemirror_mode": {
    "name": "ipython",
    "version": 3
   },
   "file_extension": ".py",
   "mimetype": "text/x-python",
   "name": "python",
   "nbconvert_exporter": "python",
   "pygments_lexer": "ipython3",
   "version": "3.10.6"
  },
  "orig_nbformat": 4,
  "vscode": {
   "interpreter": {
    "hash": "31f2aee4e71d21fbe5cf8b01ff0e069b9275f58929596ceb00d14d90e3e16cd6"
   }
  }
 },
 "nbformat": 4,
 "nbformat_minor": 2
}
