{
 "cells": [
  {
   "cell_type": "code",
   "execution_count": 128,
   "metadata": {},
   "outputs": [
    {
     "name": "stdout",
     "output_type": "stream",
     "text": [
      "interaction_log.csv cleared.\n"
     ]
    }
   ],
   "source": [
    "def clear_log_file(filename):\n",
    "    try:\n",
    "        open(filename, 'w').close()\n",
    "        print(f\"{filename} cleared.\")\n",
    "    except Exception as e:\n",
    "        print(f\"Error clearing {filename}: {str(e)}\")\n",
    "\n",
    "\n",
    "clear_log_file('interaction_log.csv')\n"
   ]
  },
  {
   "cell_type": "code",
   "execution_count": 131,
   "metadata": {},
   "outputs": [
    {
     "name": "stdout",
     "output_type": "stream",
     "text": [
      "The predicted emotion is Optimism\n"
     ]
    }
   ],
   "source": [
    "import requests\n",
    "import json\n",
    "\n",
    "url = \"http://localhost:8000/predict\"\n",
    "data = {\n",
    "    #\"text\": \"I want to fight someone and punch them !\"\n",
    "    \"text\" : \"I hope that the future will be better\"\n",
    "\n",
    "\n",
    "}\n",
    "\n",
    "response = requests.post(url, data=data)\n",
    "print(response.json())\n",
    "#response = requests.post(url, data=data)\n",
    "\n",
    "# Check if the POST request was successful\n",
    "#if response.status_code == 200:\n",
    "#    print(\"POST request was successful.\")\n",
    "#    print(\"Response:\", response.json())\n",
    "#else:\n",
    "#    print(\"POST request failed with status code:\", response.status_code)\n",
    "#    print(\"Response:\", response.content)"
   ]
  },
  {
   "cell_type": "code",
   "execution_count": 133,
   "metadata": {},
   "outputs": [
    {
     "name": "stdout",
     "output_type": "stream",
     "text": [
      "                Date and Time                                     Input   \n",
      "0  2023-05-23 03:10:55.871072  I want to fight someone and punch them !  \\\n",
      "1  2023-05-23 03:11:14.212264     I hope that the future will be better   \n",
      "\n",
      "  Emotion Predicted  \n",
      "0             Anger  \n",
      "1          Optimism  \n"
     ]
    }
   ],
   "source": [
    "import pandas as pd\n",
    "\n",
    "def check_log_file(filename):\n",
    "    column_names = ['Date and Time', 'Input', 'Emotion Predicted'] # Specify the column names\n",
    "    try:\n",
    "        data = pd.read_csv(filename, names=column_names)\n",
    "        print(data)\n",
    "    except FileNotFoundError:\n",
    "        print(f\"{filename} not found.\")\n",
    "\n",
    "\n",
    "check_log_file('interaction_log.csv')"
   ]
  }
 ],
 "metadata": {
  "kernelspec": {
   "display_name": "Python 3.10.6 64-bit",
   "language": "python",
   "name": "python3"
  },
  "language_info": {
   "codemirror_mode": {
    "name": "ipython",
    "version": 3
   },
   "file_extension": ".py",
   "mimetype": "text/x-python",
   "name": "python",
   "nbconvert_exporter": "python",
   "pygments_lexer": "ipython3",
   "version": "3.10.6"
  },
  "orig_nbformat": 4,
  "vscode": {
   "interpreter": {
    "hash": "31f2aee4e71d21fbe5cf8b01ff0e069b9275f58929596ceb00d14d90e3e16cd6"
   }
  }
 },
 "nbformat": 4,
 "nbformat_minor": 2
}
