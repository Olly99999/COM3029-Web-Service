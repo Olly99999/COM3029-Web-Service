{
 "cells": [
  {
   "cell_type": "code",
   "execution_count": 9,
   "metadata": {},
   "outputs": [
    {
     "name": "stdout",
     "output_type": "stream",
     "text": [
      "The predicted emotion is Neutral\n"
     ]
    }
   ],
   "source": [
    "import requests\n",
    "import json\n",
    "\n",
    "url = \"http://localhost:8000/predict\"\n",
    "data = {\n",
    "    #\"text\": \"I want to fight someone and punch them !\"\n",
    "    #\"text\": \"What the fuck did you just fucking say about me, you little bitch? I’ll have you know I graduated top of my class in the Navy Seals, and I’ve been involved in numerous secret raids on Al-Quaeda, and I have over 300 confirmed kills. I am trained in gorilla warfare and I’m the top sniper in the entire US armed forces. You are nothing to me but just another target. I will wipe you the fuck out with precision the likes of which has never been seen before on this Earth, mark my fucking words. You think you can get away with saying that shit to me over the Internet? Think again, fucker. As we speak I am contacting my secret network of spies across the USA and your IP is being traced right now so you better prepare for the storm, maggot. The storm that wipes out the pathetic little thing you call your life. You’re fucking dead, kid. I can be anywhere, anytime, and I can kill you in over seven hundred ways, and that’s just with my bare hands. Not only am I extensively trained in unarmed combat, but I have access to the entire arsenal of the United States Marine Corps and I will use it to its full extent to wipe your miserable ass off the face of the continent, you little shit. If only you could have known what unholy retribution your little “clever” comment was about to bring down upon you, maybe you would have held your fucking tongue. But you couldn’t, you didn’t, and now you’re paying the price, you goddamn idiot. I will shit fury all over you and you will drown in it. You’re fucking dead, kiddo.\"\n",
    "    \"text\" : \"I think the beep test is a form of psychological neglect of the emotional and physical needs of students that uses a societally imposed standard of fitness. The people most likely to succeed are tall athletic people with speed and stamina in their repertoire. Next is the average runners and after that we get more complicated. The next category is those who aren't super athletic but not super unathletic either. These people manage the beep test but do not enjoy it at all. Then we have short kids who have shorter legs. This makes it harder to run the 20m distance in a short period of time and therefore harder to keep up with the intervals of beeping. More challenging still is those who are slow runners. While they might have stamina, they are too slow to keep up with the beeps. Next up is the clumsy and unfit kids. This is where it becomes psychologically inhumane. For children who feel unable to use their body to run in an efficient and streamlined manner, the beep test causes immediate anxiety. Why is this so bad compared to many other physical activities? The answer is because it's not about making the most of the test, it's about not losing the test. Being in the first, second or third to lose causes you to walk out of the gym embarrassed because everyone knows you're not fit. On top of that, you are a sweaty, red, heaving mess. The physical exertion is awful as well. Running in the manner the beep test has you can cause shortness of breath and even vomiting or passing out. The worst though, is the public humiliation. The archaic torture device that is the beep test is meant to condition people who cannot run with fear of what happens and shame of your past experiences, and to blame clumsy kids and those who have more trouble running for their lower level on the test. The anxiety it has caused millions of students is exactly why it should be removed from schools everywhere.\"\n",
    "\n",
    "\n",
    "}\n",
    "\n",
    "response = requests.post(url, data=data)\n",
    "print(response.json())"
   ]
  }
 ],
 "metadata": {
  "kernelspec": {
   "display_name": "Python 3.10.6 64-bit",
   "language": "python",
   "name": "python3"
  },
  "language_info": {
   "codemirror_mode": {
    "name": "ipython",
    "version": 3
   },
   "file_extension": ".py",
   "mimetype": "text/x-python",
   "name": "python",
   "nbconvert_exporter": "python",
   "pygments_lexer": "ipython3",
   "version": "3.10.6"
  },
  "orig_nbformat": 4,
  "vscode": {
   "interpreter": {
    "hash": "31f2aee4e71d21fbe5cf8b01ff0e069b9275f58929596ceb00d14d90e3e16cd6"
   }
  }
 },
 "nbformat": 4,
 "nbformat_minor": 2
}
